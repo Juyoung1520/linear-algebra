{
 "cells": [
  {
   "cell_type": "markdown",
   "id": "3c74f94d",
   "metadata": {},
   "source": [
    "### 8-2"
   ]
  },
  {
   "cell_type": "code",
   "execution_count": 14,
   "id": "8096c774",
   "metadata": {},
   "outputs": [
    {
     "name": "stdout",
     "output_type": "stream",
     "text": [
      "[[ 0.54326436 -0.01575789  0.59498873 -0.59211818]\n",
      " [-0.4880434   0.10544202 -0.34327634 -0.79552309]\n",
      " [-0.58600812  0.43365665  0.67266407  0.12672589]\n",
      " [-0.35110108 -0.89474889  0.27508693 -0.02190056]]  \n",
      "[[-0.54326436  0.01575789 -0.59498873  0.59211818]\n",
      " [ 0.4880434  -0.10544202  0.34327634  0.79552309]\n",
      " [ 0.58600812 -0.43365665 -0.67266407 -0.12672589]\n",
      " [ 0.35110108  0.89474889 -0.27508693  0.02190056]]\n"
     ]
    }
   ],
   "source": [
    "import numpy as np\n",
    "import copy\n",
    "\n",
    "A = np.random.randn(4,4)\n",
    "\n",
    "#그람-슈미트 과정\n",
    "def gs(A):\n",
    "    Q = copy.copy(A)\n",
    "    u1 = Q[:,0]\n",
    "    Q[:,0] = Q[:,0] / (Q[:,0]@Q[:,0]) ** 0.5\n",
    "    \n",
    "    #u1에 대해 v2 사영\n",
    "    v2 = Q[:,1]\n",
    "    proj = ((u1 @ v2) / (u1@u1)) *u1 #u1공간에 있는 사영된 벡터\n",
    "    u2 = v2 - proj #직교 벡터\n",
    "    Q[:,1] = u2 / (u2@u2) **0.5\n",
    "    \n",
    "    v3 = Q[:,2]\n",
    "    proj1 = ((u1 @ v3)/(u1@u1)) *u1\n",
    "    u3_1 = v3-proj1\n",
    "    proj2 = ((u2 @ u3_1)/(u2@u2)) *u2\n",
    "    u3 = u3_1-proj2\n",
    "    Q[:,2] = u3/(u3@u3) **0.5\n",
    "    \n",
    "    v4 = Q[:,3]\n",
    "    proj3 = ((u1 @ v4)/(u1@u1)) *u1\n",
    "    u4_1 = v4-proj3\n",
    "    proj4 = ((u2 @ u4_1)/(u2@u2)) *u2\n",
    "    u4_2 = u4_1-proj4\n",
    "    proj5 = ((u3 @ u4_2)/(u3@u3)) *u3\n",
    "    u4 = u4_2-proj5\n",
    "    Q[:,3] = u4/(u4@u4) **0.5\n",
    "    \n",
    "    return Q\n",
    "\n",
    "print(gs(A), ' ')\n",
    "print(np.linalg.qr(A)[0])"
   ]
  },
  {
   "cell_type": "code",
   "execution_count": 15,
   "id": "91afb17c",
   "metadata": {},
   "outputs": [
    {
     "data": {
      "text/plain": [
       "array([[ 1.08652871, -0.03151579,  1.18997747, -1.18423635],\n",
       "       [-0.97608679,  0.21088405, -0.68655267, -1.59104617],\n",
       "       [-1.17201623,  0.8673133 ,  1.34532813,  0.25345178],\n",
       "       [-0.70220216, -1.78949778,  0.55017386, -0.04380113]])"
      ]
     },
     "execution_count": 15,
     "metadata": {},
     "output_type": "execute_result"
    }
   ],
   "source": [
    "gs(A)-np.linalg.qr(A)[0]"
   ]
  },
  {
   "cell_type": "code",
   "execution_count": 17,
   "id": "cd7d3475",
   "metadata": {},
   "outputs": [
    {
     "data": {
      "text/plain": [
       "array([[ 0.00000000e+00, -1.04083409e-16,  1.11022302e-16,\n",
       "        -1.11022302e-16],\n",
       "       [ 0.00000000e+00,  2.77555756e-17, -5.55111512e-17,\n",
       "        -2.22044605e-16],\n",
       "       [ 0.00000000e+00,  1.11022302e-16,  0.00000000e+00,\n",
       "         8.32667268e-17],\n",
       "       [ 0.00000000e+00, -1.11022302e-16, -5.55111512e-17,\n",
       "         3.81639165e-16]])"
      ]
     },
     "execution_count": 17,
     "metadata": {},
     "output_type": "execute_result"
    }
   ],
   "source": [
    "gs(A)+np.linalg.qr(A)[0]"
   ]
  },
  {
   "cell_type": "markdown",
   "id": "0bd4276f",
   "metadata": {},
   "source": [
    "### 8-3"
   ]
  },
  {
   "cell_type": "code",
   "execution_count": 30,
   "id": "65036ad7",
   "metadata": {},
   "outputs": [
    {
     "name": "stdout",
     "output_type": "stream",
     "text": [
      "[[ 1.00000000e+00  3.46944695e-17  1.38777878e-16 -5.55111512e-17\n",
      "   0.00000000e+00 -2.22044605e-16]\n",
      " [ 0.00000000e+00  1.00000000e+00  0.00000000e+00  1.11022302e-16\n",
      "   2.22044605e-16  1.11022302e-16]\n",
      " [ 0.00000000e+00  0.00000000e+00  1.00000000e+00  0.00000000e+00\n",
      "  -8.32667268e-17 -5.55111512e-17]\n",
      " [ 0.00000000e+00  0.00000000e+00  0.00000000e+00  1.00000000e+00\n",
      "   1.24900090e-16 -2.22044605e-16]\n",
      " [ 0.00000000e+00  0.00000000e+00  0.00000000e+00  0.00000000e+00\n",
      "   1.00000000e+00 -2.01227923e-16]\n",
      " [ 0.00000000e+00  0.00000000e+00  0.00000000e+00  0.00000000e+00\n",
      "   0.00000000e+00  1.00000000e+00]]\n"
     ]
    }
   ],
   "source": [
    "A = np.random.randn(6,6)\n",
    "U = np.linalg.qr(A)[0]\n",
    "\n",
    "I = np.linalg.qr(U)[1]\n",
    "print(I)"
   ]
  },
  {
   "cell_type": "markdown",
   "id": "e2e23de0",
   "metadata": {},
   "source": [
    "##### U가 이미 직교행렬이기 때문에 직교화했을 때 변화하는 것이 없다. R은 직교행렬인 U가 자신의 전치와 곱하는 것과 같기 때문에 단위행렬이 된다."
   ]
  },
  {
   "cell_type": "code",
   "execution_count": 31,
   "id": "5e0dc952",
   "metadata": {},
   "outputs": [
    {
     "name": "stdout",
     "output_type": "stream",
     "text": [
      "[[ 1.00000000e+01  2.77555756e-16  1.33226763e-15 -3.55271368e-15\n",
      "  -2.66453526e-15 -1.77635684e-15]\n",
      " [ 0.00000000e+00  1.10000000e+01 -8.88178420e-16  8.88178420e-16\n",
      "   5.32907052e-15 -8.88178420e-16]\n",
      " [ 0.00000000e+00  0.00000000e+00  1.20000000e+01  1.77635684e-15\n",
      "  -4.44089210e-16 -8.88178420e-16]\n",
      " [ 0.00000000e+00  0.00000000e+00  0.00000000e+00  1.30000000e+01\n",
      "  -7.77156117e-16 -1.77635684e-15]\n",
      " [ 0.00000000e+00  0.00000000e+00  0.00000000e+00  0.00000000e+00\n",
      "   1.40000000e+01 -6.55031585e-15]\n",
      " [ 0.00000000e+00  0.00000000e+00  0.00000000e+00  0.00000000e+00\n",
      "   0.00000000e+00  1.50000000e+01]]\n"
     ]
    }
   ],
   "source": [
    "U[:,0] = 10* U[:,0]/(U[:,0]@U[:,0])**0.5\n",
    "U[:,1] = 11* U[:,1]/(U[:,1]@U[:,1])**0.5\n",
    "U[:,2] = 12* U[:,2]/(U[:,2]@U[:,2])**0.5\n",
    "U[:,3] = 13* U[:,3]/(U[:,3]@U[:,3])**0.5\n",
    "U[:,4] = 14* U[:,4]/(U[:,4]@U[:,4])**0.5\n",
    "U[:,5] = 15* U[:,5]/(U[:,5]@U[:,5])**0.5\n",
    "\n",
    "R = np.linalg.qr(U)[1]\n",
    "print(R)"
   ]
  },
  {
   "cell_type": "markdown",
   "id": "05a7ca90",
   "metadata": {},
   "source": [
    "##### 대각원소가 10~15인 대각행렬이다."
   ]
  },
  {
   "cell_type": "code",
   "execution_count": 27,
   "id": "52dfa774",
   "metadata": {},
   "outputs": [
    {
     "data": {
      "text/plain": [
       "array([[-0.43609065, -0.43230545,  0.26484504, -0.39916565, -0.5796387 ,\n",
       "         0.23974948],\n",
       "       [-0.41148424,  0.36400161, -0.16998776,  0.49393833, -0.534356  ,\n",
       "        -0.37386669],\n",
       "       [-0.02269458,  0.79943377,  0.00484834, -0.54064997, -0.10603105,\n",
       "         0.23837393],\n",
       "       [ 0.29730299, -0.11105611, -0.72029243,  0.10623821, -0.33288135,\n",
       "         0.508291  ],\n",
       "       [-0.6958653 , -0.07508452, -0.50587019, -0.1705637 ,  0.47407003,\n",
       "         0.01986899],\n",
       "       [-0.25956315,  0.15345792,  0.35526318,  0.51381981,  0.17801031,\n",
       "         0.69797367]])"
      ]
     },
     "execution_count": 27,
     "metadata": {},
     "output_type": "execute_result"
    }
   ],
   "source": [
    "Q = np.linalg.qr(U)[0]\n",
    "Q@Q"
   ]
  },
  {
   "cell_type": "code",
   "execution_count": 29,
   "id": "c8910dee",
   "metadata": {},
   "outputs": [
    {
     "name": "stdout",
     "output_type": "stream",
     "text": [
      "[[ 1.00000000e+01 -1.77635684e-15  1.77635684e-15  8.88178420e-16\n",
      "  -9.29972734e-02  2.22044605e-16]\n",
      " [ 0.00000000e+00  1.10000000e+01  0.00000000e+00  3.55271368e-15\n",
      "   7.47299551e-01 -3.55271368e-15]\n",
      " [ 0.00000000e+00  0.00000000e+00  1.20000000e+01  1.99840144e-15\n",
      "   1.48842139e-01  3.55271368e-15]\n",
      " [ 0.00000000e+00  0.00000000e+00  0.00000000e+00  1.30000000e+01\n",
      "   6.28332899e-01  1.77635684e-15]\n",
      " [ 0.00000000e+00  0.00000000e+00  0.00000000e+00  0.00000000e+00\n",
      "   1.39261657e+01 -3.19267601e-01]\n",
      " [ 0.00000000e+00  0.00000000e+00  0.00000000e+00  0.00000000e+00\n",
      "   0.00000000e+00  1.49966019e+01]]\n"
     ]
    }
   ],
   "source": [
    "U[1,4] = 0\n",
    "\n",
    "R = np.linalg.qr(U)[1]\n",
    "print(R)"
   ]
  },
  {
   "cell_type": "markdown",
   "id": "9db5aa50",
   "metadata": {},
   "source": [
    "##### 상삼각행렬이 됐다. U가 직교행렬이 아니니, 일반 행렬로 QR분해를 한 결과의 R은 상삼각행렬이다."
   ]
  },
  {
   "cell_type": "markdown",
   "id": "5b4ddd9f",
   "metadata": {},
   "source": [
    "### 8-7"
   ]
  },
  {
   "cell_type": "code",
   "execution_count": 34,
   "id": "031da239",
   "metadata": {},
   "outputs": [
    {
     "name": "stdout",
     "output_type": "stream",
     "text": [
      "[[ 1.81872157  0.14243825  0.6719111  -0.19024206]\n",
      " [ 0.          3.04972163 -0.72690376 -0.22274659]\n",
      " [ 0.          0.         -2.47285235  1.52492105]\n",
      " [ 0.          0.          0.          2.70896258]\n",
      " [ 0.          0.          0.          0.        ]\n",
      " [ 0.          0.          0.          0.        ]\n",
      " [ 0.          0.          0.          0.        ]\n",
      " [ 0.          0.          0.          0.        ]\n",
      " [ 0.          0.          0.          0.        ]\n",
      " [ 0.          0.          0.          0.        ]]\n"
     ]
    }
   ],
   "source": [
    "A = np.random.randn(10,4)\n",
    "R = np.linalg.qr(A,'complete')[1]\n",
    "print(R)"
   ]
  },
  {
   "cell_type": "code",
   "execution_count": 40,
   "id": "d3f63820",
   "metadata": {},
   "outputs": [
    {
     "name": "stdout",
     "output_type": "stream",
     "text": [
      "[[ 0.00000000e+00 -2.77555756e-17  0.00000000e+00 -6.93889390e-18]\n",
      " [-1.27425941e-17  1.11022302e-16  0.00000000e+00  0.00000000e+00]\n",
      " [-2.25705576e-17  7.66944045e-18 -5.55111512e-17  2.77555756e-17]\n",
      " [-2.79791386e-18 -5.80776667e-18 -3.71821182e-17  0.00000000e+00]]\n"
     ]
    }
   ],
   "source": [
    "R1 = R[:4,:]\n",
    "\n",
    "R1_inv = np.linalg.inv(R1)\n",
    "\n",
    "RtR = R.T@R\n",
    "RtR_inv = np.linalg.inv(RtR)\n",
    "R_ginv = RtR_inv@R.T\n",
    "\n",
    "print(R_ginv[:,:4]-R1_inv)"
   ]
  },
  {
   "cell_type": "markdown",
   "id": "a1fdd9d7",
   "metadata": {},
   "source": [
    "##### R의 처음 4행의 완전역행렬 = R의 의사 역행렬의 처음 4열"
   ]
  },
  {
   "cell_type": "markdown",
   "id": "f360d633",
   "metadata": {},
   "source": [
    "### 9-2"
   ]
  },
  {
   "cell_type": "code",
   "execution_count": 43,
   "id": "6de204fc",
   "metadata": {},
   "outputs": [
    {
     "name": "stdout",
     "output_type": "stream",
     "text": [
      "3\n"
     ]
    }
   ],
   "source": [
    "matrix1 = np.random.randn(6,3)\n",
    "matrix2 = np.random.randn(3,8)\n",
    "\n",
    "A = matrix1@matrix2\n",
    "\n",
    "print(np.linalg.matrix_rank(A))"
   ]
  },
  {
   "cell_type": "code",
   "execution_count": 46,
   "id": "001c3907",
   "metadata": {},
   "outputs": [
    {
     "data": {
      "image/png": "[encoded data removed]",
      "text/plain": [
       "<Figure size 1440x840 with 3 Axes>"
      ]
     },
     "metadata": {},
     "output_type": "display_data"
    }
   ],
   "source": [
    "import seaborn as sns\n",
    "import matplotlib.pyplot as plt\n",
    "\n",
    "plt.rcParams['font.family'] = 'AppleGothic'\n",
    "print(plt.rcParams['font.family'])\n",
    "\n",
    "plt.rcParams.update({'font.family' : 'AppleGothic', #한글 폰트\n",
    "                   'figure.dpi' : '120', #해상도\n",
    "                   'figure.figsize' : [6.5, 6]}) # 가로 세로 크기\n",
    "\n",
    "import scipy.linalg\n",
    "P,L,U = scipy.linalg.lu(A)\n",
    "\n",
    "# 행렬 그리기\n",
    "_,axs = plt.subplots(1,3,figsize=(12,7))\n",
    "\n",
    "axs[0].imshow(A,vmin=-1,vmax=1,cmap='Purples')\n",
    "axs[0].set_title(f'A, 계수={np.linalg.matrix_rank(A)}')\n",
    "\n",
    "axs[1].imshow(L,vmin=-1,vmax=1,cmap='Purples')\n",
    "axs[1].set_title(f'L, 계수={np.linalg.matrix_rank(L)}')\n",
    "\n",
    "axs[2].imshow(U,vmin=-1,vmax=1,cmap='Purples')\n",
    "axs[2].set_title(f'U, 계수={np.linalg.matrix_rank(U)}')\n",
    "\n",
    "plt.tight_layout()\n",
    "plt.show()"
   ]
  },
  {
   "cell_type": "code",
   "execution_count": 49,
   "id": "18f210a5",
   "metadata": {},
   "outputs": [
    {
     "data": {
      "text/plain": [
       "array([[ 1.  ,  0.  ,  0.  ,  0.  ,  0.  ,  0.  ],\n",
       "       [ 0.18,  1.  ,  0.  ,  0.  ,  0.  ,  0.  ],\n",
       "       [-0.38,  0.17,  1.  ,  0.  ,  0.  ,  0.  ],\n",
       "       [ 0.04, -0.03, -0.75,  1.  ,  0.  ,  0.  ],\n",
       "       [-0.49,  0.21,  0.17, -0.33,  1.  ,  0.  ],\n",
       "       [ 0.09, -0.25,  0.42,  0.25,  1.  ,  1.  ]])"
      ]
     },
     "execution_count": 49,
     "metadata": {},
     "output_type": "execute_result"
    }
   ],
   "source": [
    "np.round(L,2)"
   ]
  },
  {
   "cell_type": "markdown",
   "id": "72c51e83",
   "metadata": {},
   "source": [
    "### 9-3"
   ]
  },
  {
   "cell_type": "code",
   "execution_count": 56,
   "id": "b4e21a61",
   "metadata": {},
   "outputs": [
    {
     "name": "stdout",
     "output_type": "stream",
     "text": [
      "6.467563077367918 6.4675630773679185\n",
      "-8.881784197001252e-16\n"
     ]
    }
   ],
   "source": [
    "A = np.random.randn(5,5)\n",
    "\n",
    "P,L,U = scipy.linalg.lu(A)\n",
    "\n",
    "diags = np.diag(U)\n",
    "det = np.prod(diags)*np.linalg.det(P)\n",
    "\n",
    "print(np.linalg.det(A), det)\n",
    "print(np.linalg.det(A)-det)"
   ]
  },
  {
   "cell_type": "markdown",
   "id": "d764d487",
   "metadata": {},
   "source": [
    "### 9-4"
   ]
  },
  {
   "cell_type": "code",
   "execution_count": 66,
   "id": "67235c17",
   "metadata": {},
   "outputs": [
    {
     "name": "stdout",
     "output_type": "stream",
     "text": [
      "[[-1.38777878e-17  1.38777878e-17  0.00000000e+00  0.00000000e+00]\n",
      " [ 0.00000000e+00 -1.11022302e-16  0.00000000e+00  5.55111512e-17]\n",
      " [ 2.77555756e-17  0.00000000e+00  0.00000000e+00 -1.38777878e-17]\n",
      " [ 0.00000000e+00  0.00000000e+00  0.00000000e+00  0.00000000e+00]]\n"
     ]
    }
   ],
   "source": [
    "A = np.random.randn(4,4)\n",
    "\n",
    "P,L,U = scipy.linalg.lu(A)\n",
    "\n",
    "A_inv = np.linalg.inv(A)\n",
    "U_inv = np.linalg.inv(U)\n",
    "L_inv = np.linalg.inv(L)\n",
    "\n",
    "lu_inv = U_inv@L_inv@P.T\n",
    "print(A_inv-lu_inv)"
   ]
  },
  {
   "cell_type": "code",
   "execution_count": 65,
   "id": "e5b40682",
   "metadata": {},
   "outputs": [
    {
     "data": {
      "text/plain": [
       "array([[ 1., -0.,  0.,  0.],\n",
       "       [ 0.,  1.,  0., -0.],\n",
       "       [-0.,  0.,  1.,  0.],\n",
       "       [-0.,  0., -0.,  1.]])"
      ]
     },
     "execution_count": 65,
     "metadata": {},
     "output_type": "execute_result"
    }
   ],
   "source": [
    "np.round(A@lu_inv,10)"
   ]
  }
 ],
 "metadata": {
  "kernelspec": {
   "display_name": "Python 3 (ipykernel)",
   "language": "python",
   "name": "python3"
  },
  "language_info": {
   "codemirror_mode": {
    "name": "ipython",
    "version": 3
   },
   "file_extension": ".py",
   "mimetype": "text/x-python",
   "name": "python",
   "nbconvert_exporter": "python",
   "pygments_lexer": "ipython3",
   "version": "3.11.5"
  }
 },
 "nbformat": 4,
 "nbformat_minor": 5
}
